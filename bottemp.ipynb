{
 "cells": [
  {
   "cell_type": "code",
   "execution_count": null,
   "id": "85def15d",
   "metadata": {},
   "outputs": [],
   "source": [
    "# Gym stuff\n",
    "import gym\n",
    "import gym_anytrading\n",
    "\n",
    "# Stable baselines - rl stuff\n",
    "from stable_baselines3.common.vec_env import DummyVecEnv\n",
    "from stable_baselines3 import PPO\n",
    "\n",
    "# Processing libraries\n",
    "import numpy as np\n",
    "import pandas as pd\n",
    "from matplotlib import pyplot as plt\n",
    "\n",
    "from datetime import date\n",
    "\n",
    "# Download stock data to pandas dataframe\n",
    "from jugaad_data.nse import stock_df"
   ]
  },
  {
   "cell_type": "code",
   "execution_count": null,
   "id": "55c78ccd",
   "metadata": {},
   "outputs": [],
   "source": [
    "df = stock_df(symbol=\"SBIN\", from_date=date(2022,1,1),\n",
    "            to_date=date(2023,1,1), series=\"EQ\")"
   ]
  },
  {
   "cell_type": "code",
   "execution_count": null,
   "id": "9b7fd7f8",
   "metadata": {},
   "outputs": [],
   "source": [
    "df.sort_values('DATE', ascending = True, inplace = True)\n",
    "\n",
    "df.set_index('DATE', inplace=True)\n",
    "\n",
    "df = df.drop(['SERIES', 'PREV. CLOSE', 'LTP', 'VWAP', '52W H', '52W L', 'VALUE', 'NO OF TRADES','SYMBOL'], axis=1)\n",
    "\n",
    "df.rename(columns = {'OPEN' : 'Open', 'HIGH' : 'High', 'LOW' : 'Low','CLOSE' : 'Close', 'VOLUME' : 'Volume'},  inplace = True)\n",
    "\n",
    "df.head(5)"
   ]
  },
  {
   "cell_type": "code",
   "execution_count": null,
   "id": "35c4bc6f",
   "metadata": {},
   "outputs": [],
   "source": [
    "env_maker = lambda: gym.make('stocks-v0', df=df, frame_bound=(5,200), window_size=5)\n",
    "env = DummyVecEnv([env_maker])\n",
    "\n",
    "model = PPO('MlpPolicy', env, verbose=1) \n",
    "model.learn(total_timesteps=1000000)"
   ]
  },
  {
   "cell_type": "code",
   "execution_count": null,
   "id": "3df4e79f",
   "metadata": {},
   "outputs": [],
   "source": [
    "env = gym.make('stocks-v0', df=df, frame_bound=(201,248), window_size=5)\n",
    "obs = env.reset()\n",
    "while True: \n",
    "    obs = obs[np.newaxis, ...]\n",
    "    action, _states = model.predict(obs)\n",
    "    obs, rewards, done, info = env.step(action)\n",
    "    if done:\n",
    "        print(\"info\", info)\n",
    "        break\n",
    "        \n",
    "plt.figure(figsize=(25,25))\n",
    "plt.cla()\n",
    "env.render_all()\n",
    "plt.show()"
   ]
  },
  {
   "cell_type": "code",
   "execution_count": null,
   "id": "02799087",
   "metadata": {},
   "outputs": [],
   "source": []
  }
 ],
 "metadata": {
  "kernelspec": {
   "display_name": "Python 3 (ipykernel)",
   "language": "python",
   "name": "python3"
  },
  "language_info": {
   "codemirror_mode": {
    "name": "ipython",
    "version": 3
   },
   "file_extension": ".py",
   "mimetype": "text/x-python",
   "name": "python",
   "nbconvert_exporter": "python",
   "pygments_lexer": "ipython3",
   "version": "3.7.0"
  }
 },
 "nbformat": 4,
 "nbformat_minor": 5
}
